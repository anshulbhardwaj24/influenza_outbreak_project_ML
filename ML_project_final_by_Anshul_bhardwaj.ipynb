{
  "cells": [
    {
      "cell_type": "markdown",
      "id": "97UnV8a6WCVV",
      "metadata": {
        "id": "97UnV8a6WCVV"
      },
      "source": [
        "## **Importing the Required Libraries**"
      ]
    },
    {
      "cell_type": "code",
      "execution_count": 1,
      "id": "6eb4529d",
      "metadata": {
        "id": "6eb4529d"
      },
      "outputs": [],
      "source": [
        "import scipy.io\n",
        "import numpy as np\n",
        "import pandas as pd\n",
        "from sklearn.preprocessing import StandardScaler\n",
        "from sklearn.decomposition import PCA\n",
        "from imblearn.over_sampling import SMOTE\n",
        "from sklearn.metrics import accuracy_score,classification_report,confusion_matrix\n",
        "from sklearn.linear_model import LogisticRegression\n",
        "from sklearn.neighbors import KNeighborsClassifier\n",
        "from sklearn.svm import SVC"
      ]
    },
    {
      "cell_type": "markdown",
      "id": "IMRdVF_xWIkh",
      "metadata": {
        "id": "IMRdVF_xWIkh"
      },
      "source": [
        "## **Importing the DataSet.mat**"
      ]
    },
    {
      "cell_type": "code",
      "execution_count": 2,
      "id": "KttI02NQpTra",
      "metadata": {
        "colab": {
          "base_uri": "https://localhost:8080/"
        },
        "id": "KttI02NQpTra",
        "outputId": "73fa0242-8766-4fb4-e4db-4896cd7640a9"
      },
      "outputs": [
        {
          "output_type": "stream",
          "name": "stdout",
          "text": [
            "Mounted at /content/drive\n"
          ]
        }
      ],
      "source": [
        "from google.colab import drive\n",
        "drive.mount('/content/drive')"
      ]
    },
    {
      "cell_type": "code",
      "execution_count": 3,
      "id": "374f0e21",
      "metadata": {
        "colab": {
          "base_uri": "https://localhost:8080/"
        },
        "id": "374f0e21",
        "outputId": "0564aac3-c00c-4c0d-a89e-5365f9111f59"
      },
      "outputs": [
        {
          "output_type": "execute_result",
          "data": {
            "text/plain": [
              "dict_keys(['__header__', '__version__', '__globals__', 'flu_X_tr', 'flu_Y_tr', 'flu_X_te', 'flu_Y_te', 'flu_locs', 'flu_keywords'])"
            ]
          },
          "metadata": {},
          "execution_count": 3
        }
      ],
      "source": [
        "data = scipy.io.loadmat('/content/drive/MyDrive/mlProject/influenza_outbreak_dataset (1).mat')\n",
        "data.keys()"
      ]
    },
    {
      "cell_type": "markdown",
      "id": "JprXbwhS4jOe",
      "metadata": {
        "id": "JprXbwhS4jOe"
      },
      "source": [
        "## **Extracting the data to work on**"
      ]
    },
    {
      "cell_type": "code",
      "execution_count": 4,
      "id": "541b703c",
      "metadata": {
        "id": "541b703c"
      },
      "outputs": [],
      "source": [
        "x_train = []\n",
        "y_train = []\n",
        "x_test = []\n",
        "y_test = []\n",
        "\n",
        "for i in range(48):\n",
        "    x_train.append(data['flu_X_tr'][0][i].todense())\n",
        "    x_test.append(data['flu_X_te'][0][i].todense())\n",
        "    \n",
        "    y_train.append(data['flu_Y_tr'][0][i])\n",
        "    y_test.append(data['flu_Y_te'][0][i])\n"
      ]
    },
    {
      "cell_type": "code",
      "execution_count": 5,
      "id": "4e369c99",
      "metadata": {
        "colab": {
          "base_uri": "https://localhost:8080/"
        },
        "id": "4e369c99",
        "outputId": "ca253234-aea0-4032-9836-dc39a22bed82"
      },
      "outputs": [
        {
          "output_type": "stream",
          "name": "stdout",
          "text": [
            "x_train:  (52560, 545)\n",
            "x_test:  (23280, 545)\n",
            "y_train:  (52560, 1)\n",
            "y_test: (23280, 1)\n"
          ]
        }
      ],
      "source": [
        "x_train=np.array(x_train)\n",
        "x_train = x_train.reshape(x_train.shape[0]*x_train.shape[1],x_train.shape[2])\n",
        "x_train = pd.DataFrame(x_train)\n",
        "\n",
        "x_test = np.array(x_test)\n",
        "x_test = x_test.reshape(x_test.shape[0]*x_test.shape[1],x_test.shape[2])\n",
        "x_test = pd.DataFrame(x_test)\n",
        "\n",
        "print(\"x_train: \",x_train.shape)\n",
        "print('x_test: ',x_test.shape)\n",
        "\n",
        "#-----------------------------------------------------------------------------------------------------------------------------\n",
        "\n",
        "y_train = np.array(y_train)\n",
        "y_train = y_train.reshape(-1,1)\n",
        "y_train = pd.DataFrame(y_train)\n",
        "\n",
        "y_test = np.array(y_test)\n",
        "y_test = y_test.reshape(-1,1)\n",
        "y_test = pd.DataFrame(y_test)\n",
        "\n",
        "\n",
        "print(\"y_train: \",y_train.shape)\n",
        "print('y_test:',y_test.shape)"
      ]
    },
    {
      "cell_type": "code",
      "execution_count": 6,
      "id": "466f979f",
      "metadata": {
        "colab": {
          "base_uri": "https://localhost:8080/",
          "height": 394
        },
        "id": "466f979f",
        "outputId": "447f09bd-2541-4962-b10b-d3be4a7f9ff5"
      },
      "outputs": [
        {
          "output_type": "execute_result",
          "data": {
            "text/plain": [
              "                0             1             2             3             4    \\\n",
              "count  52560.000000  52560.000000  52560.000000  52560.000000  52560.000000   \n",
              "mean       1.076636      1.780137      2.172945      2.465373      2.704890   \n",
              "std        2.725740      3.661912      4.317834      4.826208      5.233899   \n",
              "min        0.000000      0.000000      0.000000      0.000000      0.000000   \n",
              "25%        0.000000      0.000000      0.000000      0.000000      0.000000   \n",
              "50%        0.000000      1.000000      1.000000      1.000000      1.000000   \n",
              "75%        1.000000      2.000000      3.000000      3.000000      3.000000   \n",
              "max      152.000000    202.000000    221.000000    230.000000    238.000000   \n",
              "\n",
              "                5             6             7             8             9    \\\n",
              "count  52560.000000  52560.000000  52560.000000  52560.000000  52560.000000   \n",
              "mean       2.917218      3.091781      3.254357      3.409817      3.561986   \n",
              "std        5.609713      5.895678      6.182278      6.456202      6.730221   \n",
              "min        0.000000      0.000000      0.000000      0.000000      0.000000   \n",
              "25%        0.000000      0.000000      0.000000      0.000000      0.000000   \n",
              "50%        1.000000      1.000000      1.000000      2.000000      2.000000   \n",
              "75%        3.000000      4.000000      4.000000      4.000000      4.000000   \n",
              "max      238.000000    254.000000    267.000000    272.000000    277.000000   \n",
              "\n",
              "       ...           535           536           537           538  \\\n",
              "count  ...  52560.000000  52560.000000  52560.000000  52560.000000   \n",
              "mean   ...      0.011929      0.011358      0.044463      0.013527   \n",
              "std    ...      0.111849      0.122462      0.231432      0.183168   \n",
              "min    ...      0.000000      0.000000      0.000000      0.000000   \n",
              "25%    ...      0.000000      0.000000      0.000000      0.000000   \n",
              "50%    ...      0.000000      0.000000      0.000000      0.000000   \n",
              "75%    ...      0.000000      0.000000      0.000000      0.000000   \n",
              "max    ...      2.000000     11.000000      7.000000     26.000000   \n",
              "\n",
              "                539           540           541           542           543  \\\n",
              "count  52560.000000  52560.000000  52560.000000  52560.000000  52560.000000   \n",
              "mean       0.412005      0.039593      0.005156      0.018893      0.105327   \n",
              "std        1.024046      0.253539      0.078950      0.154970      0.408786   \n",
              "min        0.000000      0.000000      0.000000      0.000000      0.000000   \n",
              "25%        0.000000      0.000000      0.000000      0.000000      0.000000   \n",
              "50%        0.000000      0.000000      0.000000      0.000000      0.000000   \n",
              "75%        0.000000      0.000000      0.000000      0.000000      0.000000   \n",
              "max       32.000000     13.000000      4.000000      5.000000     10.000000   \n",
              "\n",
              "                544  \n",
              "count  52560.000000  \n",
              "mean       0.010312  \n",
              "std        0.112771  \n",
              "min        0.000000  \n",
              "25%        0.000000  \n",
              "50%        0.000000  \n",
              "75%        0.000000  \n",
              "max        3.000000  \n",
              "\n",
              "[8 rows x 545 columns]"
            ],
            "text/html": [
              "\n",
              "  <div id=\"df-0c9cb03b-55a1-4e69-86b0-ed6027e77f51\">\n",
              "    <div class=\"colab-df-container\">\n",
              "      <div>\n",
              "<style scoped>\n",
              "    .dataframe tbody tr th:only-of-type {\n",
              "        vertical-align: middle;\n",
              "    }\n",
              "\n",
              "    .dataframe tbody tr th {\n",
              "        vertical-align: top;\n",
              "    }\n",
              "\n",
              "    .dataframe thead th {\n",
              "        text-align: right;\n",
              "    }\n",
              "</style>\n",
              "<table border=\"1\" class=\"dataframe\">\n",
              "  <thead>\n",
              "    <tr style=\"text-align: right;\">\n",
              "      <th></th>\n",
              "      <th>0</th>\n",
              "      <th>1</th>\n",
              "      <th>2</th>\n",
              "      <th>3</th>\n",
              "      <th>4</th>\n",
              "      <th>5</th>\n",
              "      <th>6</th>\n",
              "      <th>7</th>\n",
              "      <th>8</th>\n",
              "      <th>9</th>\n",
              "      <th>...</th>\n",
              "      <th>535</th>\n",
              "      <th>536</th>\n",
              "      <th>537</th>\n",
              "      <th>538</th>\n",
              "      <th>539</th>\n",
              "      <th>540</th>\n",
              "      <th>541</th>\n",
              "      <th>542</th>\n",
              "      <th>543</th>\n",
              "      <th>544</th>\n",
              "    </tr>\n",
              "  </thead>\n",
              "  <tbody>\n",
              "    <tr>\n",
              "      <th>count</th>\n",
              "      <td>52560.000000</td>\n",
              "      <td>52560.000000</td>\n",
              "      <td>52560.000000</td>\n",
              "      <td>52560.000000</td>\n",
              "      <td>52560.000000</td>\n",
              "      <td>52560.000000</td>\n",
              "      <td>52560.000000</td>\n",
              "      <td>52560.000000</td>\n",
              "      <td>52560.000000</td>\n",
              "      <td>52560.000000</td>\n",
              "      <td>...</td>\n",
              "      <td>52560.000000</td>\n",
              "      <td>52560.000000</td>\n",
              "      <td>52560.000000</td>\n",
              "      <td>52560.000000</td>\n",
              "      <td>52560.000000</td>\n",
              "      <td>52560.000000</td>\n",
              "      <td>52560.000000</td>\n",
              "      <td>52560.000000</td>\n",
              "      <td>52560.000000</td>\n",
              "      <td>52560.000000</td>\n",
              "    </tr>\n",
              "    <tr>\n",
              "      <th>mean</th>\n",
              "      <td>1.076636</td>\n",
              "      <td>1.780137</td>\n",
              "      <td>2.172945</td>\n",
              "      <td>2.465373</td>\n",
              "      <td>2.704890</td>\n",
              "      <td>2.917218</td>\n",
              "      <td>3.091781</td>\n",
              "      <td>3.254357</td>\n",
              "      <td>3.409817</td>\n",
              "      <td>3.561986</td>\n",
              "      <td>...</td>\n",
              "      <td>0.011929</td>\n",
              "      <td>0.011358</td>\n",
              "      <td>0.044463</td>\n",
              "      <td>0.013527</td>\n",
              "      <td>0.412005</td>\n",
              "      <td>0.039593</td>\n",
              "      <td>0.005156</td>\n",
              "      <td>0.018893</td>\n",
              "      <td>0.105327</td>\n",
              "      <td>0.010312</td>\n",
              "    </tr>\n",
              "    <tr>\n",
              "      <th>std</th>\n",
              "      <td>2.725740</td>\n",
              "      <td>3.661912</td>\n",
              "      <td>4.317834</td>\n",
              "      <td>4.826208</td>\n",
              "      <td>5.233899</td>\n",
              "      <td>5.609713</td>\n",
              "      <td>5.895678</td>\n",
              "      <td>6.182278</td>\n",
              "      <td>6.456202</td>\n",
              "      <td>6.730221</td>\n",
              "      <td>...</td>\n",
              "      <td>0.111849</td>\n",
              "      <td>0.122462</td>\n",
              "      <td>0.231432</td>\n",
              "      <td>0.183168</td>\n",
              "      <td>1.024046</td>\n",
              "      <td>0.253539</td>\n",
              "      <td>0.078950</td>\n",
              "      <td>0.154970</td>\n",
              "      <td>0.408786</td>\n",
              "      <td>0.112771</td>\n",
              "    </tr>\n",
              "    <tr>\n",
              "      <th>min</th>\n",
              "      <td>0.000000</td>\n",
              "      <td>0.000000</td>\n",
              "      <td>0.000000</td>\n",
              "      <td>0.000000</td>\n",
              "      <td>0.000000</td>\n",
              "      <td>0.000000</td>\n",
              "      <td>0.000000</td>\n",
              "      <td>0.000000</td>\n",
              "      <td>0.000000</td>\n",
              "      <td>0.000000</td>\n",
              "      <td>...</td>\n",
              "      <td>0.000000</td>\n",
              "      <td>0.000000</td>\n",
              "      <td>0.000000</td>\n",
              "      <td>0.000000</td>\n",
              "      <td>0.000000</td>\n",
              "      <td>0.000000</td>\n",
              "      <td>0.000000</td>\n",
              "      <td>0.000000</td>\n",
              "      <td>0.000000</td>\n",
              "      <td>0.000000</td>\n",
              "    </tr>\n",
              "    <tr>\n",
              "      <th>25%</th>\n",
              "      <td>0.000000</td>\n",
              "      <td>0.000000</td>\n",
              "      <td>0.000000</td>\n",
              "      <td>0.000000</td>\n",
              "      <td>0.000000</td>\n",
              "      <td>0.000000</td>\n",
              "      <td>0.000000</td>\n",
              "      <td>0.000000</td>\n",
              "      <td>0.000000</td>\n",
              "      <td>0.000000</td>\n",
              "      <td>...</td>\n",
              "      <td>0.000000</td>\n",
              "      <td>0.000000</td>\n",
              "      <td>0.000000</td>\n",
              "      <td>0.000000</td>\n",
              "      <td>0.000000</td>\n",
              "      <td>0.000000</td>\n",
              "      <td>0.000000</td>\n",
              "      <td>0.000000</td>\n",
              "      <td>0.000000</td>\n",
              "      <td>0.000000</td>\n",
              "    </tr>\n",
              "    <tr>\n",
              "      <th>50%</th>\n",
              "      <td>0.000000</td>\n",
              "      <td>1.000000</td>\n",
              "      <td>1.000000</td>\n",
              "      <td>1.000000</td>\n",
              "      <td>1.000000</td>\n",
              "      <td>1.000000</td>\n",
              "      <td>1.000000</td>\n",
              "      <td>1.000000</td>\n",
              "      <td>2.000000</td>\n",
              "      <td>2.000000</td>\n",
              "      <td>...</td>\n",
              "      <td>0.000000</td>\n",
              "      <td>0.000000</td>\n",
              "      <td>0.000000</td>\n",
              "      <td>0.000000</td>\n",
              "      <td>0.000000</td>\n",
              "      <td>0.000000</td>\n",
              "      <td>0.000000</td>\n",
              "      <td>0.000000</td>\n",
              "      <td>0.000000</td>\n",
              "      <td>0.000000</td>\n",
              "    </tr>\n",
              "    <tr>\n",
              "      <th>75%</th>\n",
              "      <td>1.000000</td>\n",
              "      <td>2.000000</td>\n",
              "      <td>3.000000</td>\n",
              "      <td>3.000000</td>\n",
              "      <td>3.000000</td>\n",
              "      <td>3.000000</td>\n",
              "      <td>4.000000</td>\n",
              "      <td>4.000000</td>\n",
              "      <td>4.000000</td>\n",
              "      <td>4.000000</td>\n",
              "      <td>...</td>\n",
              "      <td>0.000000</td>\n",
              "      <td>0.000000</td>\n",
              "      <td>0.000000</td>\n",
              "      <td>0.000000</td>\n",
              "      <td>0.000000</td>\n",
              "      <td>0.000000</td>\n",
              "      <td>0.000000</td>\n",
              "      <td>0.000000</td>\n",
              "      <td>0.000000</td>\n",
              "      <td>0.000000</td>\n",
              "    </tr>\n",
              "    <tr>\n",
              "      <th>max</th>\n",
              "      <td>152.000000</td>\n",
              "      <td>202.000000</td>\n",
              "      <td>221.000000</td>\n",
              "      <td>230.000000</td>\n",
              "      <td>238.000000</td>\n",
              "      <td>238.000000</td>\n",
              "      <td>254.000000</td>\n",
              "      <td>267.000000</td>\n",
              "      <td>272.000000</td>\n",
              "      <td>277.000000</td>\n",
              "      <td>...</td>\n",
              "      <td>2.000000</td>\n",
              "      <td>11.000000</td>\n",
              "      <td>7.000000</td>\n",
              "      <td>26.000000</td>\n",
              "      <td>32.000000</td>\n",
              "      <td>13.000000</td>\n",
              "      <td>4.000000</td>\n",
              "      <td>5.000000</td>\n",
              "      <td>10.000000</td>\n",
              "      <td>3.000000</td>\n",
              "    </tr>\n",
              "  </tbody>\n",
              "</table>\n",
              "<p>8 rows × 545 columns</p>\n",
              "</div>\n",
              "      <button class=\"colab-df-convert\" onclick=\"convertToInteractive('df-0c9cb03b-55a1-4e69-86b0-ed6027e77f51')\"\n",
              "              title=\"Convert this dataframe to an interactive table.\"\n",
              "              style=\"display:none;\">\n",
              "        \n",
              "  <svg xmlns=\"http://www.w3.org/2000/svg\" height=\"24px\"viewBox=\"0 0 24 24\"\n",
              "       width=\"24px\">\n",
              "    <path d=\"M0 0h24v24H0V0z\" fill=\"none\"/>\n",
              "    <path d=\"M18.56 5.44l.94 2.06.94-2.06 2.06-.94-2.06-.94-.94-2.06-.94 2.06-2.06.94zm-11 1L8.5 8.5l.94-2.06 2.06-.94-2.06-.94L8.5 2.5l-.94 2.06-2.06.94zm10 10l.94 2.06.94-2.06 2.06-.94-2.06-.94-.94-2.06-.94 2.06-2.06.94z\"/><path d=\"M17.41 7.96l-1.37-1.37c-.4-.4-.92-.59-1.43-.59-.52 0-1.04.2-1.43.59L10.3 9.45l-7.72 7.72c-.78.78-.78 2.05 0 2.83L4 21.41c.39.39.9.59 1.41.59.51 0 1.02-.2 1.41-.59l7.78-7.78 2.81-2.81c.8-.78.8-2.07 0-2.86zM5.41 20L4 18.59l7.72-7.72 1.47 1.35L5.41 20z\"/>\n",
              "  </svg>\n",
              "      </button>\n",
              "      \n",
              "  <style>\n",
              "    .colab-df-container {\n",
              "      display:flex;\n",
              "      flex-wrap:wrap;\n",
              "      gap: 12px;\n",
              "    }\n",
              "\n",
              "    .colab-df-convert {\n",
              "      background-color: #E8F0FE;\n",
              "      border: none;\n",
              "      border-radius: 50%;\n",
              "      cursor: pointer;\n",
              "      display: none;\n",
              "      fill: #1967D2;\n",
              "      height: 32px;\n",
              "      padding: 0 0 0 0;\n",
              "      width: 32px;\n",
              "    }\n",
              "\n",
              "    .colab-df-convert:hover {\n",
              "      background-color: #E2EBFA;\n",
              "      box-shadow: 0px 1px 2px rgba(60, 64, 67, 0.3), 0px 1px 3px 1px rgba(60, 64, 67, 0.15);\n",
              "      fill: #174EA6;\n",
              "    }\n",
              "\n",
              "    [theme=dark] .colab-df-convert {\n",
              "      background-color: #3B4455;\n",
              "      fill: #D2E3FC;\n",
              "    }\n",
              "\n",
              "    [theme=dark] .colab-df-convert:hover {\n",
              "      background-color: #434B5C;\n",
              "      box-shadow: 0px 1px 3px 1px rgba(0, 0, 0, 0.15);\n",
              "      filter: drop-shadow(0px 1px 2px rgba(0, 0, 0, 0.3));\n",
              "      fill: #FFFFFF;\n",
              "    }\n",
              "  </style>\n",
              "\n",
              "      <script>\n",
              "        const buttonEl =\n",
              "          document.querySelector('#df-0c9cb03b-55a1-4e69-86b0-ed6027e77f51 button.colab-df-convert');\n",
              "        buttonEl.style.display =\n",
              "          google.colab.kernel.accessAllowed ? 'block' : 'none';\n",
              "\n",
              "        async function convertToInteractive(key) {\n",
              "          const element = document.querySelector('#df-0c9cb03b-55a1-4e69-86b0-ed6027e77f51');\n",
              "          const dataTable =\n",
              "            await google.colab.kernel.invokeFunction('convertToInteractive',\n",
              "                                                     [key], {});\n",
              "          if (!dataTable) return;\n",
              "\n",
              "          const docLinkHtml = 'Like what you see? Visit the ' +\n",
              "            '<a target=\"_blank\" href=https://colab.research.google.com/notebooks/data_table.ipynb>data table notebook</a>'\n",
              "            + ' to learn more about interactive tables.';\n",
              "          element.innerHTML = '';\n",
              "          dataTable['output_type'] = 'display_data';\n",
              "          await google.colab.output.renderOutput(dataTable, element);\n",
              "          const docLink = document.createElement('div');\n",
              "          docLink.innerHTML = docLinkHtml;\n",
              "          element.appendChild(docLink);\n",
              "        }\n",
              "      </script>\n",
              "    </div>\n",
              "  </div>\n",
              "  "
            ]
          },
          "metadata": {},
          "execution_count": 6
        }
      ],
      "source": [
        "x_train.describe()"
      ]
    },
    {
      "cell_type": "markdown",
      "id": "i0I8Pa6J912S",
      "metadata": {
        "id": "i0I8Pa6J912S"
      },
      "source": [
        "## **scaling the data to control the standard deviation**"
      ]
    },
    {
      "cell_type": "code",
      "execution_count": 7,
      "id": "bf57eca1",
      "metadata": {
        "id": "bf57eca1"
      },
      "outputs": [],
      "source": [
        "stdScaler = StandardScaler()\n",
        "x_train = stdScaler.fit_transform(x_train)\n",
        "x_test = stdScaler.transform(x_test)"
      ]
    },
    {
      "cell_type": "code",
      "execution_count": 8,
      "id": "6cef5491",
      "metadata": {
        "colab": {
          "base_uri": "https://localhost:8080/"
        },
        "id": "6cef5491",
        "outputId": "f9b5828b-69b5-4403-f228-0cfe76eecc82"
      },
      "outputs": [
        {
          "output_type": "execute_result",
          "data": {
            "text/plain": [
              "0.9999999999999921"
            ]
          },
          "metadata": {},
          "execution_count": 8
        }
      ],
      "source": [
        "x_train.std()"
      ]
    },
    {
      "cell_type": "markdown",
      "id": "mQaRaqHw-cBS",
      "metadata": {
        "id": "mQaRaqHw-cBS"
      },
      "source": [
        "## **removing the unwanted Features**"
      ]
    },
    {
      "cell_type": "code",
      "execution_count": 9,
      "id": "42a4fc1c",
      "metadata": {
        "id": "42a4fc1c"
      },
      "outputs": [],
      "source": [
        "pca = PCA(n_components=.85)\n",
        "x_train_pca = pca.fit_transform(x_train)\n",
        "x_test_pca = pca.transform(x_test)"
      ]
    },
    {
      "cell_type": "code",
      "execution_count": 10,
      "id": "482d509d",
      "metadata": {
        "colab": {
          "base_uri": "https://localhost:8080/"
        },
        "id": "482d509d",
        "outputId": "67328d8d-4700-4b8e-f09b-b791f108adc5"
      },
      "outputs": [
        {
          "output_type": "execute_result",
          "data": {
            "text/plain": [
              "0.0036946545572521207"
            ]
          },
          "metadata": {},
          "execution_count": 10
        }
      ],
      "source": [
        "np.linalg.det(np.cov(x_train_pca,rowvar=0))"
      ]
    },
    {
      "cell_type": "markdown",
      "id": "LTav49Nj-xTd",
      "metadata": {
        "id": "LTav49Nj-xTd"
      },
      "source": [
        "### **using SMOT to balancing the data (i.e., number of  true = false )**"
      ]
    },
    {
      "cell_type": "code",
      "execution_count": 11,
      "id": "31c025d1",
      "metadata": {
        "colab": {
          "base_uri": "https://localhost:8080/"
        },
        "id": "31c025d1",
        "outputId": "ed190e97-7252-45bb-f2d2-55e3d7460936"
      },
      "outputs": [
        {
          "output_type": "stream",
          "name": "stdout",
          "text": [
            "After OverSampling, the shape of train_X: (99310, 366)\n",
            "After OverSampling, the shape of train_y: (99310, 1)\n"
          ]
        }
      ],
      "source": [
        "sm = SMOTE(random_state = 2)\n",
        "x_train_new, y_train_new = sm.fit_resample(x_train_pca, y_train)\n",
        "\n",
        "print('After OverSampling, the shape of train_X: {}'.format(x_train_new.shape))\n",
        "print('After OverSampling, the shape of train_y: {}'.format(y_train_new.shape))"
      ]
    },
    {
      "cell_type": "markdown",
      "id": "6huqUCKfVR1n",
      "metadata": {
        "id": "6huqUCKfVR1n"
      },
      "source": [
        "## **Implementing the gausian  Naive Bayes**"
      ]
    },
    {
      "cell_type": "code",
      "execution_count": 12,
      "id": "f6986eec",
      "metadata": {
        "colab": {
          "base_uri": "https://localhost:8080/"
        },
        "id": "f6986eec",
        "outputId": "a60d8cc8-693a-4c8e-e3ac-4ec4b2a08dd9"
      },
      "outputs": [
        {
          "output_type": "stream",
          "name": "stdout",
          "text": [
            "              precision    recall  f1-score   support\n",
            "\n",
            "           0       0.85      0.93      0.89     19186\n",
            "           1       0.38      0.21      0.28      4094\n",
            "\n",
            "    accuracy                           0.80     23280\n",
            "   macro avg       0.62      0.57      0.58     23280\n",
            "weighted avg       0.77      0.80      0.78     23280\n",
            "\n",
            "[[17782  1404]\n",
            " [ 3216   878]]\n"
          ]
        },
        {
          "output_type": "execute_result",
          "data": {
            "text/plain": [
              "(23280, 2)"
            ]
          },
          "metadata": {},
          "execution_count": 12
        }
      ],
      "source": [
        "from sklearn.naive_bayes import GaussianNB\n",
        "\n",
        "GNB = GaussianNB()\n",
        "GNB.fit(x_train_new,y_train_new.values.ravel())\n",
        "y_pred=GNB.predict(x_test_pca)\n",
        "print(classification_report(y_pred,y_test))\n",
        "GNB_predict_prob = GNB.predict_proba(x_test_pca)\n",
        "GNB_predict_prob.shape"
      ]
    },
    {
      "cell_type": "markdown",
      "id": "G4dRkz6cVI2P",
      "metadata": {
        "id": "G4dRkz6cVI2P"
      },
      "source": [
        "## **Implementing the Logistic Regression**"
      ]
    },
    {
      "cell_type": "code",
      "execution_count": 19,
      "id": "ac28c340",
      "metadata": {
        "colab": {
          "base_uri": "https://localhost:8080/"
        },
        "id": "ac28c340",
        "outputId": "e552a944-4439-44d6-a2f4-d970dc99bc6b"
      },
      "outputs": [
        {
          "output_type": "stream",
          "name": "stdout",
          "text": [
            "              precision    recall  f1-score   support\n",
            "\n",
            "           0       0.76      0.95      0.84     16851\n",
            "           1       0.62      0.22      0.32      6429\n",
            "\n",
            "    accuracy                           0.75     23280\n",
            "   macro avg       0.69      0.58      0.58     23280\n",
            "weighted avg       0.72      0.75      0.70     23280\n",
            "\n",
            "[[15978   873]\n",
            " [ 5020  1409]]\n"
          ]
        },
        {
          "output_type": "execute_result",
          "data": {
            "text/plain": [
              "(23280, 2)"
            ]
          },
          "metadata": {},
          "execution_count": 19
        }
      ],
      "source": [
        "lr=LogisticRegression()\n",
        "lr.fit(x_train_new,y_train_new.values.ravel())\n",
        "y_pred=lr.predict(x_test_pca)\n",
        "print(classification_report(y_pred,y_test))\n",
        "lr_predict_prob = lr.predict_proba(x_test_pca)\n",
        "lr_predict_prob.shape"
      ]
    },
    {
      "cell_type": "markdown",
      "id": "iuKxx9e9U-Ps",
      "metadata": {
        "id": "iuKxx9e9U-Ps"
      },
      "source": [
        "## **Implementing the KNeighborsClassifier**"
      ]
    },
    {
      "cell_type": "code",
      "execution_count": 14,
      "id": "ba6e625b",
      "metadata": {
        "colab": {
          "base_uri": "https://localhost:8080/"
        },
        "id": "ba6e625b",
        "outputId": "5a44058f-e251-47d1-922c-9fc286478212"
      },
      "outputs": [
        {
          "output_type": "stream",
          "name": "stdout",
          "text": [
            "              precision    recall  f1-score   support\n",
            "\n",
            "           0       0.87      0.92      0.90     19889\n",
            "           1       0.32      0.22      0.26      3391\n",
            "\n",
            "    accuracy                           0.82     23280\n",
            "   macro avg       0.60      0.57      0.58     23280\n",
            "weighted avg       0.79      0.82      0.80     23280\n",
            "\n"
          ]
        },
        {
          "output_type": "execute_result",
          "data": {
            "text/plain": [
              "(23280, 2)"
            ]
          },
          "metadata": {},
          "execution_count": 14
        }
      ],
      "source": [
        "knn = KNeighborsClassifier()\n",
        "knn.fit(x_train_new,y_train_new.values.ravel())\n",
        "y_pred=knn.predict(x_test_pca)\n",
        "print(classification_report(y_pred,y_test))\n",
        "knn_predict_prob = knn.predict_proba(x_test_pca)\n",
        "knn_predict_prob.shape"
      ]
    },
    {
      "cell_type": "markdown",
      "id": "P3vliRVBU4SM",
      "metadata": {
        "id": "P3vliRVBU4SM"
      },
      "source": [
        "## **Implementing SVM**"
      ]
    },
    {
      "cell_type": "code",
      "execution_count": 15,
      "id": "f18a2de0",
      "metadata": {
        "id": "f18a2de0"
      },
      "outputs": [],
      "source": [
        "# commented because it is taking too much time in my system to Run \n",
        "# svm = SVC()\n",
        "# svm.fit(x_train_new,y_train_new.values.ravel())\n",
        "# y_pred=svm.predict(x_test_pca)\n",
        "# print(classification_report(y_pred,y_test))\n",
        "# svm_predict_prob = svm.predict_proba(x_test_pca)\n",
        "# svm_predict_prob.shape"
      ]
    },
    {
      "cell_type": "markdown",
      "id": "qpN9-Fa6VZ1a",
      "metadata": {
        "id": "qpN9-Fa6VZ1a"
      },
      "source": [
        "## **Find the average probability of the (KNN_probability_matrics+Logistic_reg._probability_matrics+GausianNB_probability_matrics)**"
      ]
    },
    {
      "cell_type": "code",
      "execution_count": 16,
      "id": "c49868ec",
      "metadata": {
        "colab": {
          "base_uri": "https://localhost:8080/"
        },
        "id": "c49868ec",
        "outputId": "857828dd-d9a4-4e23-865c-b55d6adfbef5"
      },
      "outputs": [
        {
          "output_type": "stream",
          "name": "stdout",
          "text": [
            "              precision    recall  f1-score   support\n",
            "\n",
            "           0       0.88      0.93      0.90     19797\n",
            "           1       0.39      0.25      0.31      3483\n",
            "\n",
            "    accuracy                           0.83     23280\n",
            "   macro avg       0.63      0.59      0.60     23280\n",
            "weighted avg       0.80      0.83      0.81     23280\n",
            "\n"
          ]
        }
      ],
      "source": [
        "avgerage_probablity=np.divide(np.add(knn_predict_prob,lr_predict_prob,GNB_predict_prob),3)\n",
        "y_pred = np.argmax(avgerage_probablity,axis=1)\n",
        "print(classification_report(y_pred,y_test))"
      ]
    },
    {
      "cell_type": "markdown",
      "id": "Ale2SBIYUpgI",
      "metadata": {
        "id": "Ale2SBIYUpgI"
      },
      "source": [
        "## **Implementing Decision Tree Classifiers**"
      ]
    },
    {
      "cell_type": "code",
      "execution_count": 17,
      "id": "4095cc88",
      "metadata": {
        "colab": {
          "base_uri": "https://localhost:8080/"
        },
        "id": "4095cc88",
        "outputId": "ea9eb272-d850-4abe-e410-24a08d121fb7"
      },
      "outputs": [
        {
          "output_type": "stream",
          "name": "stdout",
          "text": [
            "              precision    recall  f1-score   support\n",
            "\n",
            "           0       0.80      0.92      0.86     18331\n",
            "           1       0.35      0.16      0.22      4949\n",
            "\n",
            "    accuracy                           0.76     23280\n",
            "   macro avg       0.58      0.54      0.54     23280\n",
            "weighted avg       0.71      0.76      0.72     23280\n",
            "\n"
          ]
        },
        {
          "output_type": "execute_result",
          "data": {
            "text/plain": [
              "(23280, 2)"
            ]
          },
          "metadata": {},
          "execution_count": 17
        }
      ],
      "source": [
        "from sklearn.tree import DecisionTreeClassifier\n",
        "\n",
        "dTree = DecisionTreeClassifier()\n",
        "dTree.fit(x_train_new,y_train_new.values.ravel())\n",
        "y_pred=dTree.predict(x_test_pca)\n",
        "print(classification_report(y_pred,y_test))\n",
        "dTree_predict_prob = dTree.predict_proba(x_test_pca)\n",
        "dTree_predict_prob.shape"
      ]
    },
    {
      "cell_type": "markdown",
      "id": "IBOpTaMlUVpO",
      "metadata": {
        "id": "IBOpTaMlUVpO"
      },
      "source": [
        "## **Implementing Random Forest Classifiers**"
      ]
    },
    {
      "cell_type": "code",
      "execution_count": 18,
      "id": "cd52fabb",
      "metadata": {
        "colab": {
          "base_uri": "https://localhost:8080/"
        },
        "id": "cd52fabb",
        "outputId": "af491601-b630-4614-8d9e-85890cea545f"
      },
      "outputs": [
        {
          "output_type": "stream",
          "name": "stdout",
          "text": [
            "              precision    recall  f1-score   support\n",
            "\n",
            "           0       0.96      0.91      0.94     22170\n",
            "           1       0.16      0.33      0.21      1110\n",
            "\n",
            "    accuracy                           0.89     23280\n",
            "   macro avg       0.56      0.62      0.58     23280\n",
            "weighted avg       0.93      0.89      0.90     23280\n",
            "\n"
          ]
        },
        {
          "output_type": "execute_result",
          "data": {
            "text/plain": [
              "(23280, 2)"
            ]
          },
          "metadata": {},
          "execution_count": 18
        }
      ],
      "source": [
        "from sklearn.ensemble import RandomForestClassifier\n",
        "\n",
        "R_Forest = RandomForestClassifier()\n",
        "R_Forest.fit(x_train_new,y_train_new.values.ravel())\n",
        "y_pred=R_Forest.predict(x_test_pca)\n",
        "print(classification_report(y_pred,y_test))\n",
        "R_Forest_predict_prob = R_Forest.predict_proba(x_test_pca)\n",
        "R_Forest_predict_prob.shape"
      ]
    }
  ],
  "metadata": {
    "colab": {
      "provenance": []
    },
    "kernelspec": {
      "display_name": "Python 3.10.0 64-bit",
      "language": "python",
      "name": "python3"
    },
    "language_info": {
      "codemirror_mode": {
        "name": "ipython",
        "version": 3
      },
      "file_extension": ".py",
      "mimetype": "text/x-python",
      "name": "python",
      "nbconvert_exporter": "python",
      "pygments_lexer": "ipython3",
      "version": "3.10.0"
    },
    "vscode": {
      "interpreter": {
        "hash": "ed8a266fda36409687b57e66c4cf652045554ab277ebe58c5f91a4fdacc454aa"
      }
    }
  },
  "nbformat": 4,
  "nbformat_minor": 5
}